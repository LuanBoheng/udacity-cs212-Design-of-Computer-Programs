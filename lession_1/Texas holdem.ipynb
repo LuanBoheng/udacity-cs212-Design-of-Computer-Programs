{
 "cells": [
  {
   "cell_type": "code",
   "execution_count": 1,
   "metadata": {},
   "outputs": [
    {
     "data": {
      "text/plain": [
       "'tests pass'"
      ]
     },
     "execution_count": 1,
     "metadata": {},
     "output_type": "execute_result"
    }
   ],
   "source": [
    "def group(items):\n",
    "    groups = [(items.count(x), x) for x in set(items)]\n",
    "    groups.sort(reverse = True)\n",
    "    return zip(*groups)\n",
    "\n",
    "def hand_rank(hand):\n",
    "    counts, ranks = group(['--23456789TJQKA'.index(r) for r,s in hand])\n",
    "        \n",
    "    if ranks == (14, 5, 4, 3, 2):\n",
    "        ranks = (5, 4, 3, 2, 1)\n",
    "    straight = len(ranks) == 5 and max(ranks) - min(ranks) == 4\n",
    "    flush = len(set([s for r, s in hand])) == 1\n",
    "    \n",
    "#     print(straight,flush,[s for r, s in hand],hand)\n",
    "#     print(counts,ranks)\n",
    "    \n",
    "    return ((9 if counts == (5,) else\n",
    "            8 if straight and flush else\n",
    "            7 if counts == (4, 1) else\n",
    "            6 if counts == (3, 2) else\n",
    "            5 if flush else\n",
    "            4 if straight else\n",
    "            3 if counts == (3, 1, 1) else\n",
    "            2 if counts == (2, 2, 1) else\n",
    "            1 if counts == (2, 1, 1, 1) else\n",
    "            0), *ranks)\n",
    "\n",
    "def poker(hands):\n",
    "    \"Return the best hand: poker([hand,...]) => hand\"\n",
    "    return max(hands, key=hand_rank)\n",
    "    \n",
    "def test():\n",
    "    \"Test cases for the functions in poker program\"\n",
    "    sf = \"6C 7C 8C 9C TC\".split() # Straight Flush\n",
    "    fk = \"9D 9H 9S 9C 7D\".split() # Four of a Kind\n",
    "    fh = \"TD TC TH 7C 7D\".split() # Full House\n",
    "#     assert card_ranks(sf) == [10, 9, 8, 7, 6]\n",
    "#     assert card_ranks(fk) == [9, 9, 9, 9, 7]\n",
    "#     assert card_ranks(fh) == [10, 10, 10, 7, 7]\n",
    "    assert poker([sf, fk, fh]) == sf\n",
    "    assert poker([fk, fh]) == fk\n",
    "    assert poker([fh, fh]) == fh\n",
    "    assert poker([sf]) == sf\n",
    "    assert poker([sf] + 99*[fh]) == sf\n",
    "    assert hand_rank(fk) == (7, 9, 7)\n",
    "    assert hand_rank(fh) == (6, 10, 7)\n",
    "    assert hand_rank(sf) == (8, 10, 9, 8, 7, 6)\n",
    "    \n",
    "    return 'tests pass'\n",
    "\n",
    "test()\n"
   ]
  },
  {
   "cell_type": "code",
   "execution_count": 2,
   "metadata": {},
   "outputs": [],
   "source": [
    "import random\n",
    "class dealer:\n",
    "    def __init__(self):\n",
    "        # H    heart 红桃 \n",
    "        # S    spade 黑桃 \n",
    "        # C    club 梅花 \n",
    "        # D    diamond 方块 \n",
    "        self.deck = [r+s for s in 'DCHS' for r in '23456789TJQKA']\n",
    "        random.shuffle(self.deck)\n",
    "        self.counter = 0\n",
    "    \n",
    "    def remove_cards(self, cards):\n",
    "        for c in cards:\n",
    "            self.deck.remove(c)\n",
    "    \n",
    "    def deal(self, n):\n",
    "        cards = self.deck[self.counter: self.counter + n]\n",
    "        self.counter += n\n",
    "        return cards"
   ]
  },
  {
   "cell_type": "code",
   "execution_count": 3,
   "metadata": {},
   "outputs": [
    {
     "name": "stdout",
     "output_type": "stream",
     "text": [
      "self:\t ('7D', '6H', '7H', '7S', '8D') (3, 7, 8, 6)\n",
      "winner:\t ('7D', '6H', '7H', '7S', '8D') (3, 7, 8, 6)\n",
      "[['7S', '8D'], ['AS', '4H'], ['2C', '9S'], ['2S', 'TD']]\n",
      "['5D', '7D', '6H', '7H', '2H']\n",
      "0\n"
     ]
    }
   ],
   "source": [
    "from itertools import combinations\n",
    "\n",
    "class simulation:\n",
    "    def __init__(self, num_players):\n",
    "        self.num_players = num_players\n",
    "        self.dealer = dealer()\n",
    "        self.hands = []\n",
    "        self.num_community_cards = 5\n",
    "        self.community_cards = []\n",
    "    \n",
    "    def given_condition(self, hand, community_cards):\n",
    "        self.hands.append(hand)\n",
    "        self.community_cards = community_cards\n",
    "        self.num_community_cards -= len(community_cards)\n",
    "        self.dealer.remove_cards(hand + community_cards)\n",
    "        self.num_players -= 1\n",
    "        \n",
    "    def play(self):\n",
    "        # initial state\n",
    "        for i in range(self.num_players):\n",
    "            self.hands.append(self.dealer.deal(2))\n",
    "        # play to end\n",
    "        self.community_cards = self.dealer.deal(self.num_community_cards)\n",
    "        #result\n",
    "#         players = []\n",
    "#         for hand in self.hands:\n",
    "#             player = [list(e) for e in combinations(self.community_cards + hand, 5)]\n",
    "#             player = poker(player)\n",
    "#             print(player)\n",
    "        players = [poker(list(combinations(self.community_cards + hand, 5))) for hand in self.hands]\n",
    "        winner = poker(players)\n",
    "        print('self:\\t', players[0], hand_rank(players[0]))\n",
    "        print('winner:\\t', winner, hand_rank(winner))\n",
    "        return players.index(winner)\n",
    "    \n",
    "    def main(self, hand, community_cards):\n",
    "        self.given_condition(hand, community_cards)\n",
    "        winner = self.play()\n",
    "        print(self.hands)\n",
    "        print(self.community_cards)\n",
    "        print(winner)\n",
    "        \n",
    "c\n",
    "        \n",
    "one_play = simulation(4)\n",
    "hand = dealer().deal(2)\n",
    "one_play.main(hand,[])"
   ]
  },
  {
   "cell_type": "code",
   "execution_count": null,
   "metadata": {},
   "outputs": [],
   "source": []
  },
  {
   "cell_type": "code",
   "execution_count": null,
   "metadata": {},
   "outputs": [],
   "source": []
  }
 ],
 "metadata": {
  "kernelspec": {
   "display_name": "Python 3",
   "language": "python",
   "name": "python3"
  },
  "language_info": {
   "codemirror_mode": {
    "name": "ipython",
    "version": 3
   },
   "file_extension": ".py",
   "mimetype": "text/x-python",
   "name": "python",
   "nbconvert_exporter": "python",
   "pygments_lexer": "ipython3",
   "version": "3.6.4"
  }
 },
 "nbformat": 4,
 "nbformat_minor": 2
}
